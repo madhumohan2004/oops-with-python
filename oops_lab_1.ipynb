{
  "nbformat": 4,
  "nbformat_minor": 0,
  "metadata": {
    "colab": {
      "provenance": []
    },
    "kernelspec": {
      "name": "python3",
      "display_name": "Python 3"
    },
    "language_info": {
      "name": "python"
    }
  },
  "cells": [
    {
      "cell_type": "code",
      "execution_count": null,
      "metadata": {
        "colab": {
          "base_uri": "https://localhost:8080/"
        },
        "id": "t4__JdkLt016",
        "outputId": "df30b8df-74ce-449d-9e81-e7313d678b9a"
      },
      "outputs": [
        {
          "output_type": "stream",
          "name": "stdout",
          "text": [
            "largest element in the list is : 56\n"
          ]
        }
      ],
      "source": [
        "def max(list1):\n",
        "  max = list1[0]\n",
        "\n",
        "  for x in list1:\n",
        "    if x > max:\n",
        "      max = x\n",
        "\n",
        "  return max\n",
        "\n",
        "\n",
        "list1 = [10, 30, 40, 56, 13]\n",
        "print(\"largest element in the list is :\", max(list1))"
      ]
    },
    {
      "cell_type": "code",
      "source": [
        "import math\n",
        "\n",
        "def hexagon_area(length):\n",
        "  area = (3* math.sqrt(3)* (length** 2)) /2\n",
        "  return area\n",
        "\n",
        "side = 5\n",
        "result = hexagon_area(side)\n",
        "print(f'the area of the regular hexagon with side length {side } is {result}')"
      ],
      "metadata": {
        "colab": {
          "base_uri": "https://localhost:8080/"
        },
        "id": "zbbBgAGl0D9m",
        "outputId": "67402a64-f0f1-4af6-97b4-5f303ebc3ec3"
      },
      "execution_count": null,
      "outputs": [
        {
          "output_type": "stream",
          "name": "stdout",
          "text": [
            "the area of the regular hexagon with side length 5 is 64.9519052838329\n"
          ]
        }
      ]
    },
    {
      "cell_type": "code",
      "source": [
        "import re\n",
        "\n",
        "def is_valid_email(email):\n",
        "  pattern = r'^[\\w\\.-]+@[a-zA-Z0-9-]+\\.[a-zA-Z]{2,}$'\n",
        "\n",
        "  if re.match(pattern, email):\n",
        "        return True\n",
        "  else:\n",
        "        return False\n",
        "\n",
        "email_address = \"email@email.com\"\n",
        "result = is_valid_email(email_address)\n",
        "\n",
        "if result:\n",
        "    print(f\"The email '{email_address}' is valid.\")\n",
        "else:\n",
        "    print(f\"The email '{email_address}' is not valid.\")\n",
        "\n"
      ],
      "metadata": {
        "colab": {
          "base_uri": "https://localhost:8080/"
        },
        "id": "0k3sG_N4x8k6",
        "outputId": "34aabbf6-bdbf-4053-ff06-3f1beffc3318"
      },
      "execution_count": null,
      "outputs": [
        {
          "output_type": "stream",
          "name": "stdout",
          "text": [
            "The email 'email@email.com' is valid.\n"
          ]
        }
      ]
    }
  ]
}